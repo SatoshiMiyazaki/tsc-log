{
 "cells": [
  {
   "cell_type": "markdown",
   "id": "2df92811-35c3-4b07-a16b-5d3bd85b29d2",
   "metadata": {},
   "source": [
    "### 状変データ解析"
   ]
  },
  {
   "cell_type": "code",
   "execution_count": 13,
   "id": "e803f630-e5bc-472d-b33e-edb525508ee0",
   "metadata": {},
   "outputs": [],
   "source": [
    "import datetime\n",
    "import csv"
   ]
  },
  {
   "cell_type": "markdown",
   "id": "c59f2e31-96a1-4cb1-a689-1ddc37303241",
   "metadata": {},
   "source": [
    "#### 文字列の整形 (佐藤さんのコード)"
   ]
  },
  {
   "cell_type": "code",
   "execution_count": 24,
   "id": "a64fe618-4e05-4f32-9ceb-e42a5768576a",
   "metadata": {},
   "outputs": [],
   "source": [
    "# from Sato-san's ana-APPARATUS_STATUS.py\n",
    "# define Status ID to Status NAME\n",
    "def sid2sname(id):\n",
    "    try:\n",
    "        ret = snamedict[id]\n",
    "    except:\n",
    "        ret = \"Unknown Status\"\n",
    "    return ret\n",
    "\n",
    "# define Device ID to Device NAME\n",
    "def did2dname(id):\n",
    "    try:\n",
    "        ret = dnamedict[id]\n",
    "    except:\n",
    "        ret = \"Undefined Device\"\n",
    "    return ret\n",
    "\n",
    "# define isALARM\n",
    "def isAlarm(id):\n",
    "    try:\n",
    "        ret = alarmdict[id]\n",
    "    except:\n",
    "        ret = \"NORMAL\"\n",
    "    return ret\n",
    "\n",
    "# define Status ID to Status Type\n",
    "def sid2stype(id):\n",
    "    try:\n",
    "        ret = stypedict[id]\n",
    "    except:\n",
    "        ret = \"??\"\n",
    "    return ret\n",
    "    \n",
    "# Read Status List and append dictionary\n",
    "with open('STATUS.TABLE.tsv', 'r') as f:\n",
    "    f1dat = csv.reader(f, delimiter = '\\t')\n",
    "    snamedict = {}\n",
    "    for row in f1dat:\n",
    "    \tsnamedict[row[0]] = row[1]\n",
    "\n",
    "# Read Status List and append dictionary\n",
    "with open('ID-LOCAL.tsv', 'r') as f:\n",
    "    f2dat = csv.reader(f, delimiter = '\\t')\n",
    "    dnamedict = {}\n",
    "    for row in f2dat:\n",
    "    \tdnamedict[row[0]] = row[1]\n",
    "\n",
    "# Read Alarm Status ID and append dictionary\n",
    "with open('ALARM-CAUTION-FAULT.tsv', 'r') as f:\n",
    "    f3dat = csv.reader(f, delimiter = '\\t')\n",
    "    alarmdict = {}\n",
    "    for row in f3dat:\n",
    "    \talarmdict[row[0]] = row[1]\n",
    "# Read Alarm Status ID and append dictionary\n",
    "with open('SID-STYPE.tsv', 'r') as f:\n",
    "    f4dat = csv.reader(f, delimiter = '\\t')\n",
    "    stypedict = {}\n",
    "    for row in f4dat:\n",
    "    \tstypedict[row[0]] = row[1]\n"
   ]
  },
  {
   "cell_type": "code",
   "execution_count": 82,
   "id": "90a8300e-ab63-40fc-bca7-494f32c09cbc",
   "metadata": {},
   "outputs": [],
   "source": [
    "# from Sato-san's ana-APPARATUS_STATUS.py\n",
    "def formatMessage(flg, sid, sname, strHst):\n",
    "    d = ' '\n",
    "    did = sid[:4]\t# Device ID\n",
    "    dname = did2dname(did)\n",
    "    alm = isAlarm(sid)\n",
    "    stype = sid2stype(sid)\n",
    "    result = f'{strHst}{d}{stype}{d}{alm:<6}{d}0x{sid}{d}{dname:<4}{d}{sname:<32}{d}{flg}'\n",
    "    return result\n"
   ]
  },
  {
   "cell_type": "markdown",
   "id": "3a0d8870-580d-4ed2-82ae-d70efd0186dc",
   "metadata": {},
   "source": [
    "#### 調査対象の時刻レンジと検索キーワードの設定"
   ]
  },
  {
   "cell_type": "code",
   "execution_count": 94,
   "id": "307f31ed-3773-4b58-a6ae-11fabb9b0d94",
   "metadata": {
    "editable": true,
    "slideshow": {
     "slide_type": ""
    },
    "tags": []
   },
   "outputs": [
    {
     "name": "stdout",
     "output_type": "stream",
     "text": [
      "/tscbin/tsc/2024/APPARATUS_STATUS.20240320.LOG\n",
      "2024-03-20 05:04:10.8 E ALARM  0x0002022 MCU  Mount Pointing Mode              OCR\n",
      "2024-03-20 05:04:10.8 E ALARM  0x000210D MCU  Mount Fault                      OCR\n",
      "2024-03-20 05:04:10.8 E ALARM  0x000213A MCU  Mount S/D REF Alarm              OCR\n",
      "2024-03-20 05:04:10.8 E ALARM  0x000213B MCU  AZ CRS Alarm                     OCR\n",
      "2024-03-20 05:04:10.8 E ALARM  0x000213C MCU  AZ FINE Alarm                    OCR\n",
      "2024-03-20 05:04:10.8 E ALARM  0x000213D MCU  EL CRS Alarm                     OCR\n",
      "2024-03-20 05:04:10.8 E ALARM  0x000213E MCU  EL FINE Alarm                    OCR\n"
     ]
    }
   ],
   "source": [
    "startDateTime = datetime.datetime(2024, 3, 20, 4, 30, 0)\n",
    "durationInSec = 3600\n",
    "keyWords = [\"ALARM\", \"MCU\"]\n",
    "#keyWords = [\"ALARM\", \"Hydro\"]\n",
    "\n",
    "stopDateTime = startDateTime + datetime.timedelta(seconds=durationInSec)\n",
    "# a log file covers the time range of HST 14:00: 14:00+1d\n",
    "\n",
    "if startDateTime.strftime('%p') == 'PM':\n",
    "    logDay = startDateTime  + datetime.timedelta(days=1)\n",
    "else:\n",
    "    # AM\n",
    "    logDay = startDateTime\n",
    "\n",
    "# /tscbin/tsc/2024/APPARATUS_STATUS.20240518.LOG\n",
    "filePath = f'/tscbin/tsc/{logDay.year}/APPARATUS_STATUS.{logDay.year}{logDay.month:02d}{logDay.day:02d}.LOG'\n",
    "print(filePath)\n",
    "with open(filePath) as f:\n",
    "    lines = [s.rstrip() for s in f.readlines()] # chop the last CR\n",
    "\n",
    "\n",
    "for line in lines:\n",
    "    t = line[0:15]    # UT\n",
    "    flg = line[32:35] # OCR or RCV\n",
    "    sid = line[38:45] # Status ID\n",
    "    sname = line[46:] \n",
    "\n",
    "    date = datetime.date(int(t[:4]), int(t[4:6]), int(t[6:8]))\n",
    "    time = datetime.time(int(t[8:10]), int(t[10:12]), int(t[12:14]), int(t[14:])*100000)\n",
    "    ut  = datetime.datetime.combine(date, time)\n",
    "    hst = ut - datetime.timedelta(hours=10)\n",
    "\n",
    "    if (hst < startDateTime) or (hst > stopDateTime):\n",
    "        continue\n",
    "        \n",
    "    strHst = hst.strftime('%Y-%m-%d %H:%M:%S.%f')[:21]\n",
    "\n",
    "    result = formatMessage(flg, sid, sname, strHst)\n",
    "\n",
    "    numberOfMatch = 0\n",
    "    for k in keyWords:\n",
    "        if (k in result) == True:\n",
    "            numberOfMatch += 1\n",
    "    if numberOfMatch == len(keyWords):\n",
    "        print(result)"
   ]
  },
  {
   "cell_type": "code",
   "execution_count": 1,
   "id": "25bdd90e-7961-4ef8-b529-b5816eb3eda0",
   "metadata": {},
   "outputs": [
    {
     "name": "stdout",
     "output_type": "stream",
     "text": [
      "/tscbin/tsc/2024/APPARATUS_STATUS.20240320.LOG\n",
      "2024-03-20 05:04:10.8 E ALARM  0x0002022 MCU  Mount Pointing Mode              OCR\n",
      "2024-03-20 05:04:10.8 E ALARM  0x000210D MCU  Mount Fault                      OCR\n",
      "2024-03-20 05:04:10.8 E ALARM  0x000213A MCU  Mount S/D REF Alarm              OCR\n",
      "2024-03-20 05:04:10.8 E ALARM  0x000213B MCU  AZ CRS Alarm                     OCR\n",
      "2024-03-20 05:04:10.8 E ALARM  0x000213C MCU  AZ FINE Alarm                    OCR\n",
      "2024-03-20 05:04:10.8 E ALARM  0x000213D MCU  EL CRS Alarm                     OCR\n",
      "2024-03-20 05:04:10.8 E ALARM  0x000213E MCU  EL FINE Alarm                    OCR\n"
     ]
    }
   ],
   "source": [
    "import datetime\n",
    "from telDav import ApparatusStatus\n",
    "\n",
    "apparatusStatus = ApparatusStatus.ApparatusStatus(startDatetime=datetime.datetime(2024, 3, 20, 4, 50, 0),\n",
    "                                                  stopDatetime=datetime.datetime(2024, 3, 20, 5, 30, 0),\n",
    "                                                  keyWords=[\"ALARM\", \"MCU\"])\n",
    "lines = apparatusStatus.run()\n",
    "for l in lines:\n",
    "    print(l)"
   ]
  },
  {
   "cell_type": "code",
   "execution_count": null,
   "id": "4a1ba6ec-4b06-4812-861d-5397bfe263c7",
   "metadata": {},
   "outputs": [],
   "source": []
  }
 ],
 "metadata": {
  "kernelspec": {
   "display_name": "Python 3 (ipykernel)",
   "language": "python",
   "name": "python3"
  },
  "language_info": {
   "codemirror_mode": {
    "name": "ipython",
    "version": 3
   },
   "file_extension": ".py",
   "mimetype": "text/x-python",
   "name": "python",
   "nbconvert_exporter": "python",
   "pygments_lexer": "ipython3",
   "version": "3.11.7"
  }
 },
 "nbformat": 4,
 "nbformat_minor": 5
}
