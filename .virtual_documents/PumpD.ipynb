


from telDav import FetchData
fetchData = FetchData.FetchData(startDatetime = '2024-06-27 22:00:00', 
                                stopDatetime = '2024-06-27 23:00:00',
                                names = ["MDB1 Watt-Hour", "MDB2 Watt-Hour"])

fetchData.run()
fetchData.draw()





fetchData = FetchData.FetchData(startDatetime = '2024-06-27 22:00:00', 
                                stopDatetime = '2024-06-27 23:00:00',
                                names = ["Rdn Exh Chiller OPN"])

fetchData.run()
fetchData.draw()





from telDav import FetchData
fetchData = FetchData.FetchData(startDatetime = '2024-06-27 22:00:00', 
                                stopDatetime = '2024-06-27 23:00:00',
                                names = ["Rdn Exh Chiller In Temp", "Rdn Exh Chiller Out Temp"])

fetchData.run()
fetchData.draw()






