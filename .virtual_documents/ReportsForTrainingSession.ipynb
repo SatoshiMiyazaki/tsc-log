








from telDav import FetchData
names = ["PMFXS8-60 Temp MON1 Data", 
         "PMFXS8-60 Temp MON2 Data",
         "PMFXS8-60 Temp MON3 Data",
         "PMFXS8-60 Temp MON4 Data",
         "PMFXS8-60 Temp MON5 Data",
         "PMFXS8-60 Temp MON6 Data"]
fetchData = FetchData.FetchData(startDatetime = '2024-03-23 17:00:00', 
                                stopDatetime =  '2024-03-24 06:00:00',
                                names = names)
fetchData.run()
df = fetchData.dataframe

import pandas as pd
import matplotlib.pyplot as plt
from telDav import findOutliers
import matplotlib.dates as mdates
import numpy as np

fig, ax = plt.subplots()
ax.xaxis.set_major_formatter(mdates.DateFormatter('%H:%M'))
for name in names:
    ts = pd.Series(df[name].to_numpy(), index=df['datetime'])
    outliers = findOutliers.byPercentile(ts, 0.01)
    ax.plot(df['datetime'], df[name], label=f'{name} ({np.var(df[name]):.1f})')
    ax.scatter(outliers.index, outliers, color='orange')
    for t in outliers.index:
        print(f'{t.strftime("%Y-%m-%d %H:%M:%S.%f")[:21]} {name} : {ts[t]}')
            
plt.legend()
plt.show()








from telDav import FetchData
fetchData = FetchData.FetchData(startDatetime = '2023-03-23 17:00:00', 
                                stopDatetime =  '2024-03-24 06:00:00',
                                names = ["PMFXS8-60 Temp MON1 Data", 
                                         "PMFXS8-60 Temp MON2 Data",
                                         "PMFXS8-60 Temp MON3 Data",
                                         "PMFXS8-60 Temp MON4 Data",
                                         "PMFXS8-60 Temp MON5 Data",
                                         "PMFXS8-60 Temp MON6 Data"])
fetchData.run()
fetchData.draw()











import datetime
from telDav import ApparatusStatus

apparatusStatus = ApparatusStatus.ApparatusStatus(startDatetime=datetime.datetime(2024, 3, 20, 4, 50, 0),
                                                  stopDatetime=datetime.datetime(2024, 3, 20, 5, 30, 0),
                                                  keyWords=["ALARM", "MCU"])
lines = apparatusStatus.run()
for l in lines:
    print(l)





from telDav import FetchData
names = ["Mount Pointing Mode",
         "Mount Fault",
         "Mount S/D REF Alarm",
         "AZ CRS Alarm",
         "AZ FINE Alarm",
         "EL CRS Alarm",
         "EL FINE Alarm"]

fetchData = FetchData.FetchData(startDatetime = '2024-03-20 04:50:00', 
                                stopDatetime =  '2024-03-20 05:30:00',
                                names = names)
fetchData.run()
fetchData.draw()





from telDav import FetchData

names = ["Mount Pointing Mode",
         "Mount Fault",
         "Mount S/D REF Alarm",
         "AZ CRS Alarm",
         "AZ FINE Alarm",
         "EL CRS Alarm",
         "EL FINE Alarm"]

for name in names:
    fetchData = FetchData.FetchData(startDatetime = '2021-01-01 00:00:00', 
                                    stopDatetime =  '2024-03-20 05:30:00',
                                    names = [name])
    fetchData.run()
    fetchData.draw()








import datetime
from telDav import ClanMonitor

clanMonitor = ClanMonitor.ClanMonitor(startDatetime=datetime.datetime(2024, 3, 20, 4, 55, 0),
                                      stopDatetime=datetime.datetime(2024, 3, 20, 5, 15, 0))

lines = clanMonitor.run()
for l in lines:
    print(l)






