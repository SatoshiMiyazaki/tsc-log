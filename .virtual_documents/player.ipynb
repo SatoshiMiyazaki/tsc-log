





from telDav import FetchData

fetchData = FetchData.FetchData(startDatetime = '2024-06-04 17:00:00', 
                                stopDatetime  = '2024-06-07 06:00:00',
                                names = ['Weather Temperature', 'Weather Humidity'])
fetchData.run()
fetchData.draw()

df = fetchData.dataframe
print(df.info())





from telDav import FetchData

fetchData = FetchData.FetchData(startDatetime = '2024-01-01 17:00:00', 
                                stopDatetime = '2024-06-20 06:00:00',
                                names = ['Heat Exh Chiller Out Temp','Heat Exh Chiller In Temp'])

fetchData.run()
fetchData.draw()








from telDav import FetchData

fetchData = FetchData.FetchData(startDatetime = '2021-01-01 17:00:00', 
                                stopDatetime = '2024-06-01 06:00:00',
                                names = ['CONT BLDG CMPTR Room Temp High ALM', 
                                         'CONT BLDG CONT Room Temp High Alarm'])
#                                         'P2012A MCB PAC-4 Unit/Fan Alarm',
#                                         'P2012A MCB PAC-5 Unit/Fan Alarm',
#                                         'P2012A MCB PAC-6 Unit/Fan Alarm'])

fetchData.run()
fetchData.draw()





from telDav import FetchData
names = ["PMFXS8-60 Temp MON1 Data", 
         "PMFXS8-60 Temp MON2 Data",
         "PMFXS8-60 Temp MON3 Data",
         "PMFXS8-60 Temp MON4 Data",
         "PMFXS8-60 Temp MON5 Data",
         "PMFXS8-60 Temp MON6 Data"]
fetchData = FetchData.FetchData(startDatetime = '2024-03-23 17:00:00', 
                                stopDatetime =  '2024-03-24 06:00:00',
                                names = names)
fetchData.run()
df = fetchData.dataframe

import pandas as pd
import matplotlib.pyplot as plt
from telDav import findOutliers
import matplotlib.dates as mdates
import numpy as np

fig, ax = plt.subplots()
ax.xaxis.set_major_formatter(mdates.DateFormatter('%H:%M'))
for name in names:
    ts = pd.Series(df[name].to_numpy(), index=df['datetime'])
    outliers = findOutliers.byPercentile(ts, 0.01)
#    outliers = findOutliers.byMovingMean(ts, 10, 10)
#    outliers = findOutliers.byExponentialSmoothing(ts)
#   outliers = findOutliers.byPctChange(ts, 5)
    ax.plot(df['datetime'], df[name], label=f'{name} ({np.var(df[name]):.1f})')
    ax.scatter(outliers.index, outliers, color='orange')
    for t in outliers.index:
        print(f'{t.strftime("%Y-%m-%d %H:%M:%S.%f")[:21]} {name} : {ts[t]}')
            
plt.legend()
plt.show()








from telDav import FetchData

names = ["PMFXS8-60 Temp MON1 Data", 
         "PMFXS8-60 Temp MON2 Data",
         "PMFXS8-60 Temp MON3 Data",
         "PMFXS8-60 Temp MON4 Data",
         "PMFXS8-60 Temp MON5 Data",
         "PMFXS8-60 Temp MON6 Data"]

fetchData = FetchData.FetchData(startDatetime = '2023-03-23 17:00:00', 
                                stopDatetime =  '2024-03-24 06:00:00',
                                names = names)

fetchData.run()
fetchData.draw()








from telDav import FetchData

fetchData = FetchData.FetchData(startDatetime = '2023-08-15 17:00:00', 
                                stopDatetime = '2024-05-20 06:00:00',
                                names = ['AZ Real Angle',
                                         'EL Real Angle'])

fetchData.run()
fetchData.draw()





from telDav import FetchData

fetchData = FetchData.FetchData(startDatetime = '2021-01-01 17:00:00', 
                                stopDatetime = '2024-06-01 06:00:00',
                                names = ['EL ABS ENCDR-1 Alarm',
                                         'EL ABS ENCDR-2 Alarm',
                                         'EL ABS ENCDR-3 Alarm',
                                         'EL ABS ENCDR-4 Alarm',
                                         'EL ABS ENCDR-5 Alarm',
                                         'EL ABS ENCDR-6 Alarm',
                                         'EL ABS ENCDR-7 Alarm',
                                         'EL ABS ENCDR-8 Alarm'
                                        ])

fetchData.run()
fetchData.draw()


from telDav import FetchData

fetchData = FetchData.FetchData(startDatetime = '2021-01-01 17:00:00', 
                                stopDatetime = '2024-06-01 06:00:00',
                                names = ['EL INC ENCDR-1 Alarm',
                                         'EL INC ENCDR-2 Alarm',
                                         'EL INC ENCDR-3 Alarm',
                                         'EL INC ENCDR-4 Alarm',
                                         'EL INC ENCDR-5 Alarm',
                                         'EL INC ENCDR-6 Alarm',
                                         'EL INC ENCDR-7 Alarm',
                                         'EL INC ENCDR-8 Alarm'
                                        ])

fetchData.run()
fetchData.draw()


from telDav import FetchData

fetchData = FetchData.FetchData(startDatetime = '2021-01-01 17:00:00', 
                                stopDatetime = '2024-06-01 06:00:00',
                                names = ['AZ ABS ENCDR-1 Alarm',
                                         'AZ ABS ENCDR-2 Alarm',
                                         'AZ ABS ENCDR-3 Alarm',
                                         'AZ ABS ENCDR-4 Alarm',
                                         'AZ ABS ENCDR-5 Alarm',
                                         'AZ ABS ENCDR-6 Alarm',
                                         'AZ ABS ENCDR-7 Alarm',
                                         'AZ ABS ENCDR-8 Alarm'
                                        ])

fetchData.run()
fetchData.draw()


from telDav import FetchData

fetchData = FetchData.FetchData(startDatetime = '2021-01-01 17:00:00', 
                                stopDatetime = '2024-06-01 06:00:00',
                                names = ['AZ INC ENCDR-1 Alarm',
                                         'AZ INC ENCDR-2 Alarm',
                                         'AZ INC ENCDR-3 Alarm',
                                         'AZ INC ENCDR-4 Alarm',
                                         'AZ INC ENCDR-5 Alarm',
                                         'AZ INC ENCDR-6 Alarm',
                                         'AZ INC ENCDR-7 Alarm',
                                         'AZ INC ENCDR-8 Alarm'
                                        ])

fetchData.run()
fetchData.draw()





from telDav import FetchData

fetchData = FetchData.FetchData(startDatetime = '2021-01-01 17:00:00', 
                                stopDatetime = '2024-06-01 06:00:00',
                                names = ["AZ DPA-1A Alarm",
                                         "AZ DPA-1B Alarm",
                                         "AZ DPA-2A Alarm",
                                         "AZ DPA-2B Alarm",
                                         "EL DPA-1A Alarm",
                                         "EL DPA-1B Alarm",
                                         "EL DPA-2A Alarm",
                                         "EL DPA-2B Alarm"
                                        ])

fetchData.run()
fetchData.draw()






from telDav import FetchData
fetchData = FetchData.FetchData(startDatetime = '2024-06-27 22:00:00', 
                                stopDatetime = '2024-06-27 23:00:00',
                                names = ["MDB1 Watt-Hour", "MDB2 Watt-Hour"])

fetchData.run()
fetchData.draw()





from telDav import FetchData
fetchData = FetchData.FetchData(startDatetime = '2024-06-27 22:00:00', 
                                stopDatetime = '2024-06-27 23:00:00',
                                names = ["Rdn Exh Chiller OPN"])

fetchData.run()
fetchData.draw()





from telDav import FetchData
fetchData = FetchData.FetchData(startDatetime = '2024-06-27 22:00:00', 
                                stopDatetime = '2024-06-27 23:00:00',
                                names = ["Rdn Exh Chiller In Temp", "Rdn Exh Chiller Out Temp"])

fetchData.run()
fetchData.draw()






