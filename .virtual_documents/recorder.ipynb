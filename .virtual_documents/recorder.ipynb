





import datetime
import threading

from telDav import RegisterData

df = RegisterData.readTscDataInformation()
print(df.info())

threads = []
dataTypes = ['E', 'L', 'S']
for dataType in dataTypes:
    for devName in df['DevName'].drop_duplicates():
        if type(devName) != str:
            continue
        if 'PMA' in devName:
            continue

        registerData = RegisterData.RegisterData(startDateTime = datetime.datetime(year=2021, month=1, day=1), 
                                             durationInDay = 365*4, 
                                             dataType = dataType, 
                                             devName = devName, 
                                             dbName = f'db/{devName.replace("-", "_")}_{dataType}.db',
                                             isVerbose = False
                                            )
        if registerData.numberOfNames > 0:
            threads.append(threading.Thread(target=registerData.run))

for thread in threads:
    thread.start()

for thread in threads:
    thread.join()


import datetime
import threading

from telDav import RegisterData
df = RegisterData.readTscDataInformation()
print(df.info())

threads = []
dataTypes = ['E', 'L', 'S']
for dataType in dataTypes:
    for devName in df['DevName'].drop_duplicates():
        if type(devName) != str:
            continue
        if 'PMA' in devName:
            continue

        registerData = RegisterData.RegisterData(startDateTime = datetime.datetime(year=2019, month=1, day=1), 
                                             durationInDay = (365*2+10), 
                                             dataType = dataType, 
                                             devName = devName, 
                                             dbName = f'db2019_2020/{devName.replace("-", "_")}_{dataType}.db',
                                             isVerbose = False
                                            )
        if registerData.numberOfNames > 0:
            threads.append(threading.Thread(target=registerData.run))

for thread in threads:
    thread.start()

for thread in threads:
    thread.join()



