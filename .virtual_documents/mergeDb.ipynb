


import sqlite3

conn = sqlite3.connect("testdb/part1.db")
cur = conn.cursor()
cur.execute('attach database \"testdb/part2.db\" as part2')
cur.execute("insert into part2.WMON_L select * from main.WMON_L where main.WMON_L.datetime < \'2021-01-01 00:00:00\'")
conn.commit()





import os
import sqlite3
from telDav import RegisterData

df = RegisterData.readTscDataInformation()
dataTypes = ['E', 'L', 'S']

for dataType in dataTypes:
    for devName in df['DevName'].drop_duplicates():
        if type(devName) != str:
            continue
        if 'PMA' in devName:
            continue
        tableName = f'{devName.replace("-", "_")}_{dataType}'
        part1DbFile = f'db2019_2020/{tableName}.db'
        part2DbFile = f'db/{tableName}.db'
        

        if not os.path.exists(part1DbFile) or not os.path.exists(part1DbFile):
            print(f'{part1DbFile} and/or {part2DbFile} not exist')
            continue
            
        conn = sqlite3.connect(part1DbFile)
        cur = conn.cursor()
        cur.execute(f'attach database \"{part2DbFile}\" as part2')
        cur.execute(f"insert into part2.{tableName} select * from main.{tableName} where main.{tableName}.datetime < \'2021-01-01 00:00:00\'")
        conn.commit()




import os
import sqlite3
import pandas as pd
from telDav import RegisterData

df = RegisterData.readTscDataInformation()
dataTypes = ['E', 'L', 'S']

for dataType in dataTypes:
    for devName in df['DevName'].drop_duplicates():
        if type(devName) != str:
            continue
        if 'PMA' in devName:
            continue
        tableName = f'{devName.replace("-", "_")}_{dataType}'
        part1DbFile = f'db2019_2020/{tableName}.db'
        part2DbFile = f'db/{tableName}.db'
        

        if not os.path.exists(part1DbFile) or not os.path.exists(part1DbFile):
            print(f'{part1DbFile} and/or {part2DbFile} not exist')
            continue

        conn = sqlite3.connect(part2DbFile)
        dfsql = pd.read_sql(f"select count(datetime) from {tableName} where datetime < \'2021-01-01 00:00:00\'", conn)
        conn.close()
#        print(f"{tableName}:{dfsql['count(datetime)'].values[0]}")
        if dfsql['count(datetime)'].values[0] == 0:
                    print(f'{tableName} ... ')
                    conn = sqlite3.connect(part1DbFile)
                    cur = conn.cursor()
                    cur.execute(f'attach database \"{part2DbFile}\" as part2')
                    cur.execute(f"insert into part2.{tableName} select * from main.{tableName} where main.{tableName}.datetime < \'2021-01-01 00:00:00\'")
                    conn.commit()





