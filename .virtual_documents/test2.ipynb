from telDav import FetchData

fetchData = FetchData.FetchData(startDatetime = '2024-06-01 17:00:00', 
                                stopDatetime  = '2024-06-25 06:00:00',
                                names = ['MDB1 Watt-Hour','MDB2 Watt-Hour'])
fetchData.run()
fetchData.draw()


from telDav import FetchData

fetchData = FetchData.FetchData(startDatetime = '2024-06-24 06:36:30', 
                                stopDatetime  = '2024-06-24 06:37:30',
                                names = ['MDB1 Watt-Hour','MDB2 Watt-Hour'])
fetchData.run()
fetchData.draw()


from telDav import FetchData


fetchData = FetchData.FetchData(startDatetime = '2024-06-15 17:00:00', 
                                stopDatetime  = '2024-06-27 06:00:00',
                                names = ['Weather Temperature', 'Weather Humidity'])
fetchData.run()
fetchData.draw()

df = fetchData.dataframe

print(df['Weather Temperature'].mean())
print(df['Weather Humidity'].min())




import datetime
from telDav import ApparatusStatus

apparatusStatus = ApparatusStatus.ApparatusStatus(startDatetime=datetime.datetime(2024, 7, 6, 20, 47, 0),
                                                  stopDatetime=datetime.datetime(2024, 7, 6, 20, 51, 0),
                                                  keyWords=["Alarm"])
lines = apparatusStatus.run()
for l in lines:
    print(l)


from telDav import FetchData


fetchData = FetchData.FetchData(startDatetime = '2024-06-28 12:32:00', 
                                stopDatetime  = '2024-06-28 12:33:00',
                                names = ['EL Real Angle'])
fetchData.run()
fetchData.draw()
df = fetchData.dataframe
print(df)



import datetime
import threading

from telDav import RegisterData


devNames = ["MLP1"]
threads = []
dataTypes = ['S']
for dataType in dataTypes:
    for devName in devNames:
        if type(devName) != str:
            continue
        if 'PMA' in devName:
            continue

        registerData = RegisterData.RegisterData(startDateTime = datetime.datetime(year=2021, month=1, day=1), 
                                             durationInDay = 365*4, 
                                             dataType = dataType, 
                                             devName = devName, 
                                             dbName = f'db/{devName.replace("-", "_")}_{dataType}.db',
                                             isVerbose = False
                                            )
        if registerData.numberOfNames > 0:
            threads.append(threading.Thread(target=registerData.run))

for thread in threads:
    thread.start()

for thread in threads:
    thread.join()


import datetime
from telDav import RegisterData
registerData = RegisterData.RegisterData(startDateTime = datetime.datetime(year=2021, month=1, day=1), 
                                             durationInDay = 365*4, 
                                             dataType = 'E', 
                                             devName = 'SH_TEST', 
                                             dbName = f'db/SH_TEST_E.db',
                                             isVerbose = False
                                            )
registerData.run()



import datetime
from telDav import RegisterData
registerData = RegisterData.RegisterData(startDateTime = datetime.datetime(year=2019, month=1, day=1), 
                                             durationInDay = 365*2+10, 
                                             dataType = 'E', 
                                             devName = 'PMFXS_8-58', 
                                             dbName = f'db2019_2020/PMFXS_8_58_E.db',
                                             isVerbose = False
                                            )
registerData.run()




