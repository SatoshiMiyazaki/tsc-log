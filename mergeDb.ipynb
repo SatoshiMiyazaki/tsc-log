{
 "cells": [
  {
   "cell_type": "markdown",
   "id": "26d4670c-e193-45ab-9703-a6b1e8196b5c",
   "metadata": {},
   "source": [
    "#### mergeのテスト"
   ]
  },
  {
   "cell_type": "code",
   "execution_count": 2,
   "id": "f8b5d05f-633a-4456-acd2-4ef9e3fffd6d",
   "metadata": {},
   "outputs": [
    {
     "data": {
      "text/plain": [
       "<sqlite3.Cursor at 0x7fc549567440>"
      ]
     },
     "execution_count": 2,
     "metadata": {},
     "output_type": "execute_result"
    }
   ],
   "source": [
    "import sqlite3\n",
    "\n",
    "conn = sqlite3.connect(\"testdb/part1.db\")\n",
    "cur = conn.cursor()\n",
    "cur.execute('attach database \\\"testdb/part2.db\\\" as part2')\n",
    "cur.execute(\"insert into part2.WMON_L select * from main.WMON_L where main.WMON_L.datetime < \\'2021-01-01 00:00:00\\'\")\n",
    "conn.commit()"
   ]
  },
  {
   "cell_type": "markdown",
   "id": "4344782c-c60f-4ccc-b634-c8e725c877e5",
   "metadata": {},
   "source": [
    "#### mergeの実行"
   ]
  },
  {
   "cell_type": "code",
   "execution_count": 11,
   "id": "c5cd7c29-92eb-4634-a2b7-d2bcbe8da525",
   "metadata": {},
   "outputs": [
    {
     "name": "stdout",
     "output_type": "stream",
     "text": [
      "db2019_2020/WMON_E.db and/or db/WMON_E.db not exist\n"
     ]
    },
    {
     "ename": "OperationalError",
     "evalue": "table part2.SH_TEST_E has 36 columns but 35 values were supplied",
     "output_type": "error",
     "traceback": [
      "\u001b[0;31m---------------------------------------------------------------------------\u001b[0m",
      "\u001b[0;31mOperationalError\u001b[0m                          Traceback (most recent call last)",
      "Cell \u001b[0;32mIn[11], line 26\u001b[0m\n\u001b[1;32m     24\u001b[0m cur \u001b[38;5;241m=\u001b[39m conn\u001b[38;5;241m.\u001b[39mcursor()\n\u001b[1;32m     25\u001b[0m cur\u001b[38;5;241m.\u001b[39mexecute(\u001b[38;5;124mf\u001b[39m\u001b[38;5;124m'\u001b[39m\u001b[38;5;124mattach database \u001b[39m\u001b[38;5;130;01m\\\"\u001b[39;00m\u001b[38;5;132;01m{\u001b[39;00mpart2DbFile\u001b[38;5;132;01m}\u001b[39;00m\u001b[38;5;130;01m\\\"\u001b[39;00m\u001b[38;5;124m as part2\u001b[39m\u001b[38;5;124m'\u001b[39m)\n\u001b[0;32m---> 26\u001b[0m cur\u001b[38;5;241m.\u001b[39mexecute(\u001b[38;5;124mf\u001b[39m\u001b[38;5;124m\"\u001b[39m\u001b[38;5;124minsert into part2.\u001b[39m\u001b[38;5;132;01m{\u001b[39;00mtableName\u001b[38;5;132;01m}\u001b[39;00m\u001b[38;5;124m select * from main.\u001b[39m\u001b[38;5;132;01m{\u001b[39;00mtableName\u001b[38;5;132;01m}\u001b[39;00m\u001b[38;5;124m where main.\u001b[39m\u001b[38;5;132;01m{\u001b[39;00mtableName\u001b[38;5;132;01m}\u001b[39;00m\u001b[38;5;124m.datetime < \u001b[39m\u001b[38;5;130;01m\\'\u001b[39;00m\u001b[38;5;124m2021-01-01 00:00:00\u001b[39m\u001b[38;5;130;01m\\'\u001b[39;00m\u001b[38;5;124m\"\u001b[39m)\n\u001b[1;32m     27\u001b[0m conn\u001b[38;5;241m.\u001b[39mcommit()\n",
      "\u001b[0;31mOperationalError\u001b[0m: table part2.SH_TEST_E has 36 columns but 35 values were supplied"
     ]
    }
   ],
   "source": [
    "import os\n",
    "import sqlite3\n",
    "from telDav import RegisterData\n",
    "\n",
    "df = RegisterData.readTscDataInformation()\n",
    "dataTypes = ['E', 'L', 'S']\n",
    "\n",
    "for dataType in dataTypes:\n",
    "    for devName in df['DevName'].drop_duplicates():\n",
    "        if type(devName) != str:\n",
    "            continue\n",
    "        if 'PMA' in devName:\n",
    "            continue\n",
    "        tableName = f'{devName.replace(\"-\", \"_\")}_{dataType}'\n",
    "        part1DbFile = f'db2019_2020/{tableName}.db'\n",
    "        part2DbFile = f'db/{tableName}.db'\n",
    "        \n",
    "\n",
    "        if not os.path.exists(part1DbFile) or not os.path.exists(part1DbFile):\n",
    "            print(f'{part1DbFile} and/or {part2DbFile} not exist')\n",
    "            continue\n",
    "            \n",
    "        conn = sqlite3.connect(part1DbFile)\n",
    "        cur = conn.cursor()\n",
    "        cur.execute(f'attach database \\\"{part2DbFile}\\\" as part2')\n",
    "        cur.execute(f\"insert into part2.{tableName} select * from main.{tableName} where main.{tableName}.datetime < \\'2021-01-01 00:00:00\\'\")\n",
    "        conn.commit()\n",
    "\n"
   ]
  },
  {
   "cell_type": "code",
   "execution_count": 1,
   "id": "e31fc4ff-24b2-4434-9792-28f16cd74654",
   "metadata": {},
   "outputs": [
    {
     "name": "stdout",
     "output_type": "stream",
     "text": [
      "AO_E ... \n",
      "db2019_2020/WMON_E.db and/or db/WMON_E.db not exist\n",
      "CLOCK_E ... \n",
      "CIAX_E ... \n",
      "OBCP_E ... \n",
      "PMFXS_8_58_E ... \n",
      "PMFXS_8_59_E ... \n",
      "PMFXS_8_60_E ... \n",
      "DCU_L ... \n",
      "MCU_L ... \n",
      "SMCU_L ... \n",
      "FRCU_L ... \n",
      "AG_L ... \n",
      "SV_L ... \n",
      "AO_L ... \n",
      "SH_L ... \n",
      "db2019_2020/HTEXH_L.db and/or db/HTEXH_L.db not exist\n",
      "db2019_2020/MCP1_L.db and/or db/MCP1_L.db not exist\n",
      "WMON_L ... \n",
      "FPCI_L ... \n",
      "CAL_L ... \n",
      "MCP2_L ... \n",
      "db2019_2020/CVCU_L.db and/or db/CVCU_L.db not exist\n",
      "db2019_2020/TMCU_L.db and/or db/TMCU_L.db not exist\n",
      "BLCU_L ... \n",
      "TTCU_L ... \n",
      "HSBC_L ... \n",
      "DOMEENV_L ... \n",
      "DOMECT2_L ... \n",
      "TLSCPENV_L ... \n",
      "TLSCPCT2_L ... \n",
      "CLOCK_L ... \n",
      "THRM_L ... \n",
      "PUMP_A_L ... \n",
      "BOLT_L ... \n",
      "db2019_2020/SPU4_L.db and/or db/SPU4_L.db not exist\n",
      "db2019_2020/SPU5_L.db and/or db/SPU5_L.db not exist\n",
      "db2019_2020/SPU6_L.db and/or db/SPU6_L.db not exist\n",
      "FRAD_PF_L ... \n",
      "ASCU_PF_L ... \n",
      "PUMP_B_L ... \n",
      "PUMP_D_L ... \n",
      "CIAX_L ... \n",
      "OBCP_L ... \n",
      "db2019_2020/PUMP_C_L.db and/or db/PUMP_C_L.db not exist\n",
      "HSCSCAG_L ... \n",
      "HSCSHAG_L ... \n",
      "HSCSH_L ... \n",
      "db2019_2020/SH_TEST_L.db and/or db/SH_TEST_L.db not exist\n",
      "DOME_FLAT_L ... \n",
      "TSC_L ... \n",
      "MLP1_L ... \n",
      "MLP2_L ... \n",
      "MLP3_L ... \n",
      "db2019_2020/PMFXS_8_58_L.db and/or db/PMFXS_8_58_L.db not exist\n",
      "db2019_2020/PMFXS_8_59_L.db and/or db/PMFXS_8_59_L.db not exist\n",
      "db2019_2020/PMFXS_8_60_L.db and/or db/PMFXS_8_60_L.db not exist\n",
      "DCU_S ... \n",
      "MCU_S ... \n",
      "db2019_2020/SMCU_S.db and/or db/SMCU_S.db not exist\n",
      "FRCU_S ... \n",
      "db2019_2020/AG_S.db and/or db/AG_S.db not exist\n",
      "db2019_2020/SV_S.db and/or db/SV_S.db not exist\n",
      "db2019_2020/AO_S.db and/or db/AO_S.db not exist\n",
      "db2019_2020/SH_S.db and/or db/SH_S.db not exist\n",
      "db2019_2020/HTEXH_S.db and/or db/HTEXH_S.db not exist\n",
      "db2019_2020/MCP1_S.db and/or db/MCP1_S.db not exist\n",
      "db2019_2020/WMON_S.db and/or db/WMON_S.db not exist\n",
      "db2019_2020/FPCI_S.db and/or db/FPCI_S.db not exist\n",
      "db2019_2020/CAL_S.db and/or db/CAL_S.db not exist\n",
      "db2019_2020/MCP2_S.db and/or db/MCP2_S.db not exist\n",
      "db2019_2020/CVCU_S.db and/or db/CVCU_S.db not exist\n",
      "db2019_2020/TMCU_S.db and/or db/TMCU_S.db not exist\n",
      "db2019_2020/BLCU_S.db and/or db/BLCU_S.db not exist\n",
      "TTCU_S ... \n",
      "db2019_2020/HSBC_S.db and/or db/HSBC_S.db not exist\n",
      "db2019_2020/DOMEENV_S.db and/or db/DOMEENV_S.db not exist\n",
      "db2019_2020/DOMECT2_S.db and/or db/DOMECT2_S.db not exist\n",
      "db2019_2020/TLSCPENV_S.db and/or db/TLSCPENV_S.db not exist\n",
      "db2019_2020/TLSCPCT2_S.db and/or db/TLSCPCT2_S.db not exist\n",
      "db2019_2020/CLOCK_S.db and/or db/CLOCK_S.db not exist\n",
      "db2019_2020/THRM_S.db and/or db/THRM_S.db not exist\n",
      "db2019_2020/PUMP_A_S.db and/or db/PUMP_A_S.db not exist\n",
      "db2019_2020/BOLT_S.db and/or db/BOLT_S.db not exist\n",
      "db2019_2020/SPU4_S.db and/or db/SPU4_S.db not exist\n",
      "db2019_2020/SPU5_S.db and/or db/SPU5_S.db not exist\n",
      "db2019_2020/SPU6_S.db and/or db/SPU6_S.db not exist\n",
      "FRAD_PF_S ... \n",
      "db2019_2020/ASCU_PF_S.db and/or db/ASCU_PF_S.db not exist\n",
      "db2019_2020/PUMP_B_S.db and/or db/PUMP_B_S.db not exist\n",
      "db2019_2020/PUMP_D_S.db and/or db/PUMP_D_S.db not exist\n",
      "db2019_2020/CIAX_S.db and/or db/CIAX_S.db not exist\n",
      "db2019_2020/OBCP_S.db and/or db/OBCP_S.db not exist\n",
      "db2019_2020/PUMP_C_S.db and/or db/PUMP_C_S.db not exist\n",
      "db2019_2020/HSCSCAG_S.db and/or db/HSCSCAG_S.db not exist\n",
      "db2019_2020/HSCSHAG_S.db and/or db/HSCSHAG_S.db not exist\n",
      "db2019_2020/HSCSH_S.db and/or db/HSCSH_S.db not exist\n",
      "db2019_2020/SH_TEST_S.db and/or db/SH_TEST_S.db not exist\n",
      "db2019_2020/DOME_FLAT_S.db and/or db/DOME_FLAT_S.db not exist\n",
      "TSC_S ... \n",
      "MLP1_S ... \n",
      "db2019_2020/MLP2_S.db and/or db/MLP2_S.db not exist\n",
      "db2019_2020/MLP3_S.db and/or db/MLP3_S.db not exist\n",
      "db2019_2020/PMFXS_8_58_S.db and/or db/PMFXS_8_58_S.db not exist\n",
      "db2019_2020/PMFXS_8_59_S.db and/or db/PMFXS_8_59_S.db not exist\n",
      "db2019_2020/PMFXS_8_60_S.db and/or db/PMFXS_8_60_S.db not exist\n"
     ]
    }
   ],
   "source": [
    "import os\n",
    "import sqlite3\n",
    "import pandas as pd\n",
    "from telDav import RegisterData\n",
    "\n",
    "df = RegisterData.readTscDataInformation()\n",
    "dataTypes = ['E', 'L', 'S']\n",
    "\n",
    "for dataType in dataTypes:\n",
    "    for devName in df['DevName'].drop_duplicates():\n",
    "        if type(devName) != str:\n",
    "            continue\n",
    "        if 'PMA' in devName:\n",
    "            continue\n",
    "        tableName = f'{devName.replace(\"-\", \"_\")}_{dataType}'\n",
    "        part1DbFile = f'db2019_2020/{tableName}.db'\n",
    "        part2DbFile = f'db/{tableName}.db'\n",
    "        \n",
    "\n",
    "        if not os.path.exists(part1DbFile) or not os.path.exists(part1DbFile):\n",
    "            print(f'{part1DbFile} and/or {part2DbFile} not exist')\n",
    "            continue\n",
    "\n",
    "        conn = sqlite3.connect(part2DbFile)\n",
    "        dfsql = pd.read_sql(f\"select count(datetime) from {tableName} where datetime < \\'2021-01-01 00:00:00\\'\", conn)\n",
    "        conn.close()\n",
    "#        print(f\"{tableName}:{dfsql['count(datetime)'].values[0]}\")\n",
    "        if dfsql['count(datetime)'].values[0] == 0:\n",
    "                    print(f'{tableName} ... ')\n",
    "                    conn = sqlite3.connect(part1DbFile)\n",
    "                    cur = conn.cursor()\n",
    "                    cur.execute(f'attach database \\\"{part2DbFile}\\\" as part2')\n",
    "                    cur.execute(f\"insert into part2.{tableName} select * from main.{tableName} where main.{tableName}.datetime < \\'2021-01-01 00:00:00\\'\")\n",
    "                    conn.commit()\n",
    "\n"
   ]
  },
  {
   "cell_type": "code",
   "execution_count": null,
   "id": "4bd090c4-b021-4ae0-8356-6cf54c1875ab",
   "metadata": {},
   "outputs": [],
   "source": []
  }
 ],
 "metadata": {
  "kernelspec": {
   "display_name": "Python 3 (ipykernel)",
   "language": "python",
   "name": "python3"
  },
  "language_info": {
   "codemirror_mode": {
    "name": "ipython",
    "version": 3
   },
   "file_extension": ".py",
   "mimetype": "text/x-python",
   "name": "python",
   "nbconvert_exporter": "python",
   "pygments_lexer": "ipython3",
   "version": "3.11.7"
  }
 },
 "nbformat": 4,
 "nbformat_minor": 5
}
